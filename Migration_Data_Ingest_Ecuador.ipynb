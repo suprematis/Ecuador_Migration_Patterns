{
 "cells": [
  {
   "cell_type": "code",
   "execution_count": 1,
   "metadata": {},
   "outputs": [
    {
     "name": "stdout",
     "output_type": "stream",
     "text": [
      "--2018-07-21 10:15:30--  http://www.ecuadorencifras.gob.ec/documentos/datos/Poblacion_y_Demografia/entradas_salidas_internac/CSV/bdd_entradas_salidas_internacionales_2017_CSV.zip\n",
      "Resolving www.ecuadorencifras.gob.ec (www.ecuadorencifras.gob.ec)... 190.152.152.79\n",
      "Connecting to www.ecuadorencifras.gob.ec (www.ecuadorencifras.gob.ec)|190.152.152.79|:80... connected.\n",
      "HTTP request sent, awaiting response... 200 OK\n",
      "Length: 83413023 (80M) [application/zip]\n",
      "Saving to: ‘bdd_entradas_salidas_internacionales_2017_CSV.zip’\n",
      "\n",
      "bdd_entradas_salida 100%[===================>]  79.55M   378KB/s    in 4m 37s  \n",
      "\n",
      "2018-07-21 10:20:08 (294 KB/s) - ‘bdd_entradas_salidas_internacionales_2017_CSV.zip’ saved [83413023/83413023]\n",
      "\n"
     ]
    }
   ],
   "source": [
    "!wget http://www.ecuadorencifras.gob.ec/documentos/datos/Poblacion_y_Demografia/entradas_salidas_internac/CSV/bdd_entradas_salidas_internacionales_2017_CSV.zip"
   ]
  },
  {
   "cell_type": "code",
   "execution_count": 2,
   "metadata": {},
   "outputs": [],
   "source": [
    "!mkdir ecuador-migration-data-2017"
   ]
  },
  {
   "cell_type": "code",
   "execution_count": 3,
   "metadata": {},
   "outputs": [
    {
     "name": "stdout",
     "output_type": "stream",
     "text": [
      "Archive:  bdd_entradas_salidas_internacionales_2017_CSV.zip\n",
      "   creating: ecuador-migration-data-2017/Datos_Abiertos_ESI_2017/\n",
      "  inflating: ecuador-migration-data-2017/Datos_Abiertos_ESI_2017/Diccionario ESI 2017.xls  \n",
      "  inflating: ecuador-migration-data-2017/Datos_Abiertos_ESI_2017/ESI_2017.csv  \n",
      "  inflating: ecuador-migration-data-2017/Datos_Abiertos_ESI_2017/Metadatos ESI 2017.xls  \n"
     ]
    }
   ],
   "source": [
    "!unzip bdd_entradas_salidas_internacionales_2017_CSV.zip -d ecuador-migration-data-2017/"
   ]
  },
  {
   "cell_type": "code",
   "execution_count": 4,
   "metadata": {},
   "outputs": [
    {
     "name": "stdout",
     "output_type": "stream",
     "text": [
      "cod_estd;secuencial;tip_movi;tip_naci;anio_movi;mes_movi;dia_movi;sex_migr;nac_migr;subcont_nac;cont_nac;via_tran;mot_viam;pais_prod;subcont_prod;cont_prod;lug_prod;pais_res;subcont_res;cont_res;jef_migr;pro_jefm;can_jefm;cla_migr;ocu_migr;edad;pais_esc;lug_esc\r",
      "\r\n",
      "ESI;1;Entrada;Extranjero;2017;Octubre;1;Hombre;Sin especificar;Sin especificar;Sin especificar;V�a A�rea;Turismo;Italia;Europa Meridional;Europa;Mil�n;Italia;Europa Meridional;Europa;Aeropuerto Internacional Jos� Joaqu�n de Olmedo;Guayas;Guayaquil;No inmigrante T-3;Personal de apoyo administrativo no clasificado bajo otros epigrafes;36;Pa�ses Bajos;Amsterdam\r",
      "\r\n",
      "ESI;2;Entrada;Extranjero;2017;Junio;8;Mujer;Zambia;�frica Oriental;�frica;V�a A�rea;Turismo;Estados Unidos de Am�rica;Am�rica del Septentrional;Am�rica;Miami Florida;Estados Unidos de Am�rica;Am�rica del Septentrional;Am�rica;Aeropuerto Internacional Mariscal Sucre;Pichincha;Quito;No inmigrante T-3;Personal de apoyo administrativo no clasificado bajo otros epigrafes;45;Estados Unidos de Am�rica;Miami Florida\r",
      "\r\n",
      "ESI;3;Entrada;Extranjero;2017;Mayo;28;Mujer;Zambia;�frica Oriental;�frica;V�a A�rea;Eventos;Zambia;�frica Oriental;�frica;Lusaka;Zambia;�frica Oriental;�frica;Aeropuerto Internacional Mariscal Sucre;Pichincha;Quito;No inmigrante T-3;Directores generales y gerentes generales;37;Pa�ses Bajos;Amsterdam\r",
      "\r\n",
      "ESI;4;Entrada;Extranjero;2017;Marzo;13;Mujer;Zambia;�frica Oriental;�frica;V�a A�rea;Turismo;Zambia;�frica Oriental;�frica;Luanshya;Zambia;�frica Oriental;�frica;Aeropuerto Internacional Jos� Joaqu�n de Olmedo;Guayas;Guayaquil;No inmigrante T-3;Directores generales y gerentes generales;42;Pa�ses Bajos;Amsterdam\r",
      "\r\n",
      "ESI;5;Entrada;Extranjero;2017;Julio;2;Mujer;Zambia;�frica Oriental;�frica;V�a A�rea;Turismo;Estados Unidos de Am�rica;Am�rica del Septentrional;Am�rica;Dallas Texas;Estados Unidos de Am�rica;Am�rica del Septentrional;Am�rica;Aeropuerto Internacional Mariscal Sucre;Pichincha;Quito;No inmigrante T-3;Amas de casa;44;Estados Unidos de Am�rica;Dallas Texas\r",
      "\r\n",
      "ESI;6;Entrada;Extranjero;2017;Mayo;12;Mujer;Zambia;�frica Oriental;�frica;V�a A�rea;Turismo;Estados Unidos de Am�rica;Am�rica del Septentrional;Am�rica;Los �ngeles California;Estados Unidos de Am�rica;Am�rica del Septentrional;Am�rica;Aeropuerto Internacional Mariscal Sucre;Pichincha;Quito;No inmigrante T-3;Tecnicos en ciencias fisicas y en ingenieria no clasificados bajo otros epigrafes;54;Estados Unidos de Am�rica;Houston Texas\r",
      "\r\n",
      "ESI;7;Entrada;Extranjero;2017;Febrero;6;Mujer;Zambia;�frica Oriental;�frica;V�a A�rea;Residencia;Estados Unidos de Am�rica;Am�rica del Septentrional;Am�rica;Dallas Texas;Ecuador;Am�rica del Sur;Am�rica;Aeropuerto Internacional Mariscal Sucre;Pichincha;Quito;Inmigrantes 10-VI;Amas de casa;41;Estados Unidos de Am�rica;Dallas Texas\r",
      "\r\n",
      "ESI;8;Entrada;Extranjero;2017;Diciembre;25;Mujer;Zambia;�frica Oriental;�frica;V�a A�rea;Turismo;Estados Unidos de Am�rica;Am�rica del Septentrional;Am�rica;Albuquerque New M�xico;Estados Unidos de Am�rica;Am�rica del Septentrional;Am�rica;Aeropuerto Internacional Mariscal Sucre;Pichincha;Quito;No inmigrante T-3;Personal de apoyo administrativo no clasificado bajo otros epigrafes;47;Panam�;Panam� City\r",
      "\r\n",
      "ESI;9;Entrada;Extranjero;2017;Mayo;23;Mujer;Zambia;�frica Oriental;�frica;V�a A�rea;Eventos;Panam�;Am�rica Central;Am�rica;Panam� City;Zambia;�frica Oriental;�frica;Aeropuerto Internacional Mariscal Sucre;Pichincha;Quito;No inmigrante T-3;Miembros del poder ejecutivo y de los gobiernos locales o seccionales;43;Panam�;Panam� City\r",
      "\r\n"
     ]
    }
   ],
   "source": [
    "!head ecuador-migration-data-2017/Datos_Abiertos_ESI_2017/ESI_2017.csv"
   ]
  },
  {
   "cell_type": "code",
   "execution_count": 5,
   "metadata": {},
   "outputs": [
    {
     "name": "stdout",
     "output_type": "stream",
     "text": [
      "ecuador-migration-data-2017/Datos_Abiertos_ESI_2017/ESI_2017.csv: text/plain; charset=iso-8859-1\r\n"
     ]
    }
   ],
   "source": [
    "!file -i ecuador-migration-data-2017/Datos_Abiertos_ESI_2017/ESI_2017.csv"
   ]
  },
  {
   "cell_type": "code",
   "execution_count": 6,
   "metadata": {},
   "outputs": [],
   "source": [
    "ECMI2017='ecuador-migration-data-2017/Datos_Abiertos_ESI_2017/ESI_2017.csv'"
   ]
  },
  {
   "cell_type": "code",
   "execution_count": 7,
   "metadata": {},
   "outputs": [],
   "source": [
    "!iconv -f ISO-8859-1 -t UTF-8//TRANSLIT $ECMI2017 -o ECMI2017_utf.csv"
   ]
  },
  {
   "cell_type": "code",
   "execution_count": 8,
   "metadata": {},
   "outputs": [
    {
     "name": "stdout",
     "output_type": "stream",
     "text": [
      "cod_estd;secuencial;tip_movi;tip_naci;anio_movi;mes_movi;dia_movi;sex_migr;nac_migr;subcont_nac;cont_nac;via_tran;mot_viam;pais_prod;subcont_prod;cont_prod;lug_prod;pais_res;subcont_res;cont_res;jef_migr;pro_jefm;can_jefm;cla_migr;ocu_migr;edad;pais_esc;lug_esc\r",
      "\r\n",
      "ESI;1;Entrada;Extranjero;2017;Octubre;1;Hombre;Sin especificar;Sin especificar;Sin especificar;Vía Aérea;Turismo;Italia;Europa Meridional;Europa;Milán;Italia;Europa Meridional;Europa;Aeropuerto Internacional José Joaquín de Olmedo;Guayas;Guayaquil;No inmigrante T-3;Personal de apoyo administrativo no clasificado bajo otros epigrafes;36;Países Bajos;Amsterdam\r",
      "\r\n",
      "ESI;2;Entrada;Extranjero;2017;Junio;8;Mujer;Zambia;África Oriental;África;Vía Aérea;Turismo;Estados Unidos de América;América del Septentrional;América;Miami Florida;Estados Unidos de América;América del Septentrional;América;Aeropuerto Internacional Mariscal Sucre;Pichincha;Quito;No inmigrante T-3;Personal de apoyo administrativo no clasificado bajo otros epigrafes;45;Estados Unidos de América;Miami Florida\r",
      "\r\n",
      "ESI;3;Entrada;Extranjero;2017;Mayo;28;Mujer;Zambia;África Oriental;África;Vía Aérea;Eventos;Zambia;África Oriental;África;Lusaka;Zambia;África Oriental;África;Aeropuerto Internacional Mariscal Sucre;Pichincha;Quito;No inmigrante T-3;Directores generales y gerentes generales;37;Países Bajos;Amsterdam\r",
      "\r\n",
      "ESI;4;Entrada;Extranjero;2017;Marzo;13;Mujer;Zambia;África Oriental;África;Vía Aérea;Turismo;Zambia;África Oriental;África;Luanshya;Zambia;África Oriental;África;Aeropuerto Internacional José Joaquín de Olmedo;Guayas;Guayaquil;No inmigrante T-3;Directores generales y gerentes generales;42;Países Bajos;Amsterdam\r",
      "\r\n",
      "ESI;5;Entrada;Extranjero;2017;Julio;2;Mujer;Zambia;África Oriental;África;Vía Aérea;Turismo;Estados Unidos de América;América del Septentrional;América;Dallas Texas;Estados Unidos de América;América del Septentrional;América;Aeropuerto Internacional Mariscal Sucre;Pichincha;Quito;No inmigrante T-3;Amas de casa;44;Estados Unidos de América;Dallas Texas\r",
      "\r\n",
      "ESI;6;Entrada;Extranjero;2017;Mayo;12;Mujer;Zambia;África Oriental;África;Vía Aérea;Turismo;Estados Unidos de América;América del Septentrional;América;Los Ángeles California;Estados Unidos de América;América del Septentrional;América;Aeropuerto Internacional Mariscal Sucre;Pichincha;Quito;No inmigrante T-3;Tecnicos en ciencias fisicas y en ingenieria no clasificados bajo otros epigrafes;54;Estados Unidos de América;Houston Texas\r",
      "\r\n",
      "ESI;7;Entrada;Extranjero;2017;Febrero;6;Mujer;Zambia;África Oriental;África;Vía Aérea;Residencia;Estados Unidos de América;América del Septentrional;América;Dallas Texas;Ecuador;América del Sur;América;Aeropuerto Internacional Mariscal Sucre;Pichincha;Quito;Inmigrantes 10-VI;Amas de casa;41;Estados Unidos de América;Dallas Texas\r",
      "\r\n",
      "ESI;8;Entrada;Extranjero;2017;Diciembre;25;Mujer;Zambia;África Oriental;África;Vía Aérea;Turismo;Estados Unidos de América;América del Septentrional;América;Albuquerque New México;Estados Unidos de América;América del Septentrional;América;Aeropuerto Internacional Mariscal Sucre;Pichincha;Quito;No inmigrante T-3;Personal de apoyo administrativo no clasificado bajo otros epigrafes;47;Panamá;Panamá City\r",
      "\r\n",
      "ESI;9;Entrada;Extranjero;2017;Mayo;23;Mujer;Zambia;África Oriental;África;Vía Aérea;Eventos;Panamá;América Central;América;Panamá City;Zambia;África Oriental;África;Aeropuerto Internacional Mariscal Sucre;Pichincha;Quito;No inmigrante T-3;Miembros del poder ejecutivo y de los gobiernos locales o seccionales;43;Panamá;Panamá City\r",
      "\r\n"
     ]
    }
   ],
   "source": [
    "!head ECMI2017_utf.csv"
   ]
  },
  {
   "cell_type": "code",
   "execution_count": 2,
   "metadata": {},
   "outputs": [],
   "source": [
    "import pandas as pd\n",
    "import numpy as np\n",
    "import matplotlib.pyplot as plt\n",
    "%matplotlib inline"
   ]
  },
  {
   "cell_type": "code",
   "execution_count": 1,
   "metadata": {},
   "outputs": [],
   "source": [
    "import multiprocessing as mp"
   ]
  },
  {
   "cell_type": "code",
   "execution_count": 10,
   "metadata": {},
   "outputs": [],
   "source": [
    "LARGE_FILE = \"ECMI2017_utf.csv\"\n",
    "CHUNKSIZE = 1000000 # processing 100,000 rows at a time"
   ]
  },
  {
   "cell_type": "code",
   "execution_count": 11,
   "metadata": {},
   "outputs": [
    {
     "name": "stdout",
     "output_type": "stream",
     "text": [
      "There are 6180175 rows of data\n",
      "CPU times: user 34.8 s, sys: 4.02 s, total: 38.8 s\n",
      "Wall time: 38.7 s\n"
     ]
    }
   ],
   "source": [
    "%%time\n",
    "def process_frame(df):\n",
    "        # process data frame\n",
    "        return len(df)\n",
    "\n",
    "if __name__ == '__main__':\n",
    "        reader = pd.read_table(LARGE_FILE, chunksize=CHUNKSIZE)\n",
    "\n",
    "        result = 0\n",
    "        for df in reader:\n",
    "                # process each data frame\n",
    "                result += process_frame(df)\n",
    "\n",
    "        print \"There are %d rows of data\"%(result)"
   ]
  },
  {
   "cell_type": "code",
   "execution_count": 12,
   "metadata": {},
   "outputs": [
    {
     "name": "stdout",
     "output_type": "stream",
     "text": [
      "There are 6180175 rows of data\n",
      "CPU times: user 47.2 s, sys: 11.5 s, total: 58.7 s\n",
      "Wall time: 56.9 s\n"
     ]
    }
   ],
   "source": [
    "%%time\n",
    "def process_frame(df):\n",
    "        # process data frame\n",
    "        return len(df)\n",
    "\n",
    "if __name__ == '__main__':\n",
    "        reader = pd.read_table(LARGE_FILE, chunksize=CHUNKSIZE)\n",
    "        pool = mp.Pool(6) # use 4 processes\n",
    "\n",
    "        funclist = []\n",
    "        for df in reader:\n",
    "                # process each data frame\n",
    "                f = pool.apply_async(process_frame,[df])\n",
    "                funclist.append(f)\n",
    "\n",
    "        result = 0\n",
    "        for f in funclist:\n",
    "                result += f.get(timeout=10) # timeout in 10 seconds\n",
    "\n",
    "        print \"There are %d rows of data\"%(result)"
   ]
  },
  {
   "cell_type": "code",
   "execution_count": 5,
   "metadata": {},
   "outputs": [],
   "source": [
    "inout2017 = pd.read_csv('ECMI2017_utf.csv', names=['cod_estd' , 'secuencial' , 'tip_movi' , 'tip_naci' , 'anio_movi' , 'mes_movi' , 'dia_movi' , 'sex_migr' , 'nac_migr' , 'subcont_nac' , 'cont_nac' , 'via_tran' , 'mot_viam' , 'pais_prod' , 'subcont_prod' , 'cont_prod' , 'lug_prod' , 'pais_res' , 'subcont_res' , 'cont_res' , 'jef_migr' , 'pro_jefm' , 'can_jefm' , 'cla_migr' , 'ocu_migr' , 'edad' , 'pais_esc' , 'lug_esc'\n",
    "], sep=';')"
   ]
  },
  {
   "cell_type": "code",
   "execution_count": 3,
   "metadata": {},
   "outputs": [
    {
     "ename": "NameError",
     "evalue": "name 'inout2017' is not defined",
     "output_type": "error",
     "traceback": [
      "\u001b[0;31m---------------------------------------------------------------------------\u001b[0m",
      "\u001b[0;31mNameError\u001b[0m                                 Traceback (most recent call last)",
      "\u001b[0;32m<ipython-input-3-4320281293ae>\u001b[0m in \u001b[0;36m<module>\u001b[0;34m()\u001b[0m\n\u001b[0;32m----> 1\u001b[0;31m \u001b[0minout2017\u001b[0m\u001b[0;34m\u001b[0m\u001b[0m\n\u001b[0m",
      "\u001b[0;31mNameError\u001b[0m: name 'inout2017' is not defined"
     ]
    }
   ],
   "source": [
    "inout2017"
   ]
  },
  {
   "cell_type": "code",
   "execution_count": null,
   "metadata": {},
   "outputs": [],
   "source": [
    "inout2017.groupby('tip_movi').sum()"
   ]
  }
 ],
 "metadata": {
  "kernelspec": {
   "display_name": "Python 2",
   "language": "python",
   "name": "python2"
  },
  "language_info": {
   "codemirror_mode": {
    "name": "ipython",
    "version": 2
   },
   "file_extension": ".py",
   "mimetype": "text/x-python",
   "name": "python",
   "nbconvert_exporter": "python",
   "pygments_lexer": "ipython2",
   "version": "2.7.15"
  }
 },
 "nbformat": 4,
 "nbformat_minor": 2
}
